{
  "nbformat": 4,
  "nbformat_minor": 0,
  "metadata": {
    "colab": {
      "provenance": [],
      "authorship_tag": "ABX9TyP0Y2SVxTx7aP+IC0jzdyKa",
      "include_colab_link": true
    },
    "kernelspec": {
      "name": "python3",
      "display_name": "Python 3"
    },
    "language_info": {
      "name": "python"
    }
  },
  "cells": [
    {
      "cell_type": "markdown",
      "metadata": {
        "id": "view-in-github",
        "colab_type": "text"
      },
      "source": [
        "<a href=\"https://colab.research.google.com/github/Choon38/ACTIVESEGMENTATION/blob/master/recommended_system.ipynb\" target=\"_parent\"><img src=\"https://colab.research.google.com/assets/colab-badge.svg\" alt=\"Open In Colab\"/></a>"
      ]
    },
    {
      "cell_type": "code",
      "source": [
        "import pandas as pd\n",
        "from IPython.display import display, HTML\n",
        "\n",
        "# Create a mock dataset with publicly available image URLs\n",
        "data = {\n",
        "    'Item': ['Dress1', 'Dress2', 'Dress3', 'Dress4', 'Dress5'],\n",
        "    'Color': ['red', 'blue', 'green', 'red', 'blue'],\n",
        "    'Design': ['floral', 'plain', 'striped', 'floral', 'polka dot'],\n",
        "    'ImageURL': [\n",
        "        'https://www.myntra.com/dresses/stylecast/stylecast-red-shoulder-straps-bodycon-maxi-dress/25323250/buy',\n",
        "        'https://www.myntra.com/dresses/pink+fort/pink-fort-floral-printed-cotton-a-line-midi-dress/28779452/buy',\n",
        "        'https://www.myntra.com/dresses/minglay/minglay-green-midi-dress/18504408/buy',\n",
        "        'https://www.publicdomainpictures.net/pictures/30000/velka/floral-dress.jpg',\n",
        "        'https://www.publicdomainpictures.net/pictures/30000/velka/polka-dot-dress.jpg'\n",
        "    ]\n",
        "}\n",
        "\n",
        "df = pd.DataFrame(data)\n",
        "\n",
        "print(\"Dataset:\")\n",
        "print(df)\n",
        "\n",
        "def recommend_items(color_preference, design_preference):\n",
        "    # Normalize user preferences to lowercase\n",
        "    color_preference = color_preference.lower()\n",
        "    design_preference = design_preference.lower()\n",
        "\n",
        "    # Filter the dataset based on preferences\n",
        "    recommendations = df[(df['Color'] == color_preference) & (df['Design'] == design_preference)]\n",
        "    if recommendations.empty:\n",
        "        recommendations = df[df['Color'] == color_preference]\n",
        "        if recommendations.empty:\n",
        "            recommendations = df[df['Design'] == design_preference]\n",
        "    return recommendations\n",
        "\n",
        "def display_recommendations(recommendations):\n",
        "    if not recommendations.empty:\n",
        "        html_content = '<h3>Recommended Items:</h3>'\n",
        "        for _, row in recommendations.iterrows():\n",
        "            html_content += f\"<p>{row['Item']} - {row['Color'].capitalize()} - {row['Design'].capitalize()}</p>\"\n",
        "            html_content += f'<img src=\"{row[\"ImageURL\"]}\" alt=\"{row[\"Item\"]}\" style=\"width:200px;\"><br>'\n",
        "        display(HTML(html_content))\n",
        "    else:\n",
        "        display(HTML(\"<p>No recommendations found.</p>\"))\n",
        "\n",
        "def get_user_preferences():\n",
        "    color_preference = input(\"Enter your preferred color: \")\n",
        "    design_preference = input(\"Enter your preferred design: \")\n",
        "    recommendations = recommend_items(color_preference, design_preference)\n",
        "    display_recommendations(recommendations)\n",
        "\n",
        "get_user_preferences()\n"
      ],
      "metadata": {
        "colab": {
          "base_uri": "https://localhost:8080/",
          "height": 303
        },
        "id": "ZLIBPVsiWKem",
        "outputId": "feaa32d8-e192-49da-84e1-ac11241ba316"
      },
      "execution_count": 13,
      "outputs": [
        {
          "name": "stdout",
          "output_type": "stream",
          "text": [
            "Dataset:\n",
            "     Item  Color     Design                                           ImageURL\n",
            "0  Dress1    red     floral  https://www.myntra.com/dresses/stylecast/style...\n",
            "1  Dress2   blue      plain  https://www.myntra.com/dresses/pink+fort/pink-...\n",
            "2  Dress3  green    striped  https://www.myntra.com/dresses/minglay/minglay...\n",
            "3  Dress4    red     floral  https://www.publicdomainpictures.net/pictures/...\n",
            "4  Dress5   blue  polka dot  https://www.publicdomainpictures.net/pictures/...\n",
            "Enter your preferred color: red\n",
            "Enter your preferred design: floral\n"
          ]
        },
        {
          "output_type": "display_data",
          "data": {
            "text/plain": [
              "<IPython.core.display.HTML object>"
            ],
            "text/html": [
              "<h3>Recommended Items:</h3><p>Dress1 - Red - Floral</p><img src=\"https://www.myntra.com/dresses/stylecast/stylecast-red-shoulder-straps-bodycon-maxi-dress/25323250/buy\" alt=\"Dress1\" style=\"width:200px;\"><br><p>Dress4 - Red - Floral</p><img src=\"https://www.publicdomainpictures.net/pictures/30000/velka/floral-dress.jpg\" alt=\"Dress4\" style=\"width:200px;\"><br>"
            ]
          },
          "metadata": {}
        }
      ]
    }
  ]
}